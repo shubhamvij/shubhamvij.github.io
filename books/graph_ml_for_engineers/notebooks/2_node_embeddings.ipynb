{
 "cells": [
  {
   "cell_type": "markdown",
   "metadata": {},
   "source": [
    "## What are we trying to do?\n",
    "\n",
    "Input Graph --> Feature Engineering --> Apply some learning algorithm --> Drive some prediction\n",
    "Wtih Graph represeatnation learning we want to eliminate the \"Feature Engineering\" step, and automatically learn the features\n",
    "\n",
    "\n",
    "## So whats the idea?\n",
    "\n",
    "Learn a $f: u \\rightarrow \\mathbb{R}^d$ ; a function $f$ that given a node $u$ maps that node to a $d$ dimensional vector in the $\\mathbb{R}$ (real) space\n",
    "\n",
    "\n",
    "Given that we learn the function $f$, what can we do?\n",
    "You can use them for downstream gtasks such as Node classification, Link prediction, Graph classification, Clustering, Anomoly detection, et al.\n"
   ]
  },
  {
   "cell_type": "markdown",
   "metadata": {},
   "source": [
    " "
   ]
  }
 ],
 "metadata": {
  "kernelspec": {
   "display_name": "Python 3.9.12 ('graph-ml-for-engineers-9GQyHo6a-py3.9')",
   "language": "python",
   "name": "python3"
  },
  "language_info": {
   "name": "python",
   "version": "3.9.12"
  },
  "orig_nbformat": 4,
  "vscode": {
   "interpreter": {
    "hash": "c5835645cbd39e77e80fd28b6a8a6b63c0a1f33699bc9c2aaafa2cbac9764660"
   }
  }
 },
 "nbformat": 4,
 "nbformat_minor": 2
}
